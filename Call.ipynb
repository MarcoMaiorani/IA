{
 "cells": [
  {
   "cell_type": "code",
   "execution_count": 1,
   "metadata": {},
   "outputs": [],
   "source": [
    "import pandas as pd\n",
    "import seaborn as sns\n",
    "import numpy as np\n",
    "import matplotlib.pyplot as plt\n",
    "from sklearn.model_selection import train_test_split\n",
    "from sklearn.compose import ColumnTransformer\n",
    "from sklearn.preprocessing import MinMaxScaler\n",
    "from sklearn.preprocessing import StandardScaler\n",
    "from sklearn.tree import DecisionTreeClassifier\n",
    "from sklearn.metrics import accuracy_score\n",
    "from sklearn import preprocessing\n",
    "from sklearn.metrics import confusion_matrix\n",
    "import pylab as pl"
   ]
  },
  {
   "cell_type": "code",
   "execution_count": 43,
   "metadata": {},
   "outputs": [],
   "source": [
    "df= pd.read_csv('trainCall.csv')\n",
    "y = df['Churn']\n",
    "p = df['SeniorCitizen']\n",
    "d = df['tenure']"
   ]
  },
  {
   "cell_type": "code",
   "execution_count": 44,
   "metadata": {},
   "outputs": [
    {
     "data": {
      "text/html": [
       "<div>\n",
       "<style scoped>\n",
       "    .dataframe tbody tr th:only-of-type {\n",
       "        vertical-align: middle;\n",
       "    }\n",
       "\n",
       "    .dataframe tbody tr th {\n",
       "        vertical-align: top;\n",
       "    }\n",
       "\n",
       "    .dataframe thead th {\n",
       "        text-align: right;\n",
       "    }\n",
       "</style>\n",
       "<table border=\"1\" class=\"dataframe\">\n",
       "  <thead>\n",
       "    <tr style=\"text-align: right;\">\n",
       "      <th></th>\n",
       "      <th>Churn</th>\n",
       "      <th>customerID</th>\n",
       "      <th>gender</th>\n",
       "      <th>SeniorCitizen</th>\n",
       "      <th>Partner</th>\n",
       "      <th>Dependents</th>\n",
       "      <th>tenure</th>\n",
       "      <th>PhoneService</th>\n",
       "      <th>MultipleLines</th>\n",
       "      <th>InternetService</th>\n",
       "      <th>...</th>\n",
       "      <th>OnlineBackup</th>\n",
       "      <th>DeviceProtection</th>\n",
       "      <th>TechSupport</th>\n",
       "      <th>StreamingTV</th>\n",
       "      <th>StreamingMovies</th>\n",
       "      <th>Contract</th>\n",
       "      <th>PaperlessBilling</th>\n",
       "      <th>PaymentMethod</th>\n",
       "      <th>MonthlyCharges</th>\n",
       "      <th>TotalCharges</th>\n",
       "    </tr>\n",
       "  </thead>\n",
       "  <tbody>\n",
       "    <tr>\n",
       "      <th>0</th>\n",
       "      <td>No</td>\n",
       "      <td>4223-BKEOR</td>\n",
       "      <td>Female</td>\n",
       "      <td>0</td>\n",
       "      <td>No</td>\n",
       "      <td>Yes</td>\n",
       "      <td>21</td>\n",
       "      <td>Yes</td>\n",
       "      <td>No</td>\n",
       "      <td>DSL</td>\n",
       "      <td>...</td>\n",
       "      <td>No</td>\n",
       "      <td>Yes</td>\n",
       "      <td>No</td>\n",
       "      <td>No</td>\n",
       "      <td>Yes</td>\n",
       "      <td>One year</td>\n",
       "      <td>No</td>\n",
       "      <td>Mailed check</td>\n",
       "      <td>64.85</td>\n",
       "      <td>1336.8</td>\n",
       "    </tr>\n",
       "    <tr>\n",
       "      <th>1</th>\n",
       "      <td>No</td>\n",
       "      <td>6035-RIIOM</td>\n",
       "      <td>Female</td>\n",
       "      <td>0</td>\n",
       "      <td>No</td>\n",
       "      <td>No</td>\n",
       "      <td>54</td>\n",
       "      <td>Yes</td>\n",
       "      <td>Yes</td>\n",
       "      <td>Fiber optic</td>\n",
       "      <td>...</td>\n",
       "      <td>Yes</td>\n",
       "      <td>No</td>\n",
       "      <td>No</td>\n",
       "      <td>Yes</td>\n",
       "      <td>Yes</td>\n",
       "      <td>Two year</td>\n",
       "      <td>Yes</td>\n",
       "      <td>Bank transfer (automatic)</td>\n",
       "      <td>97.20</td>\n",
       "      <td>5129.45</td>\n",
       "    </tr>\n",
       "    <tr>\n",
       "      <th>2</th>\n",
       "      <td>Yes</td>\n",
       "      <td>3797-VTIDR</td>\n",
       "      <td>Male</td>\n",
       "      <td>0</td>\n",
       "      <td>Yes</td>\n",
       "      <td>No</td>\n",
       "      <td>1</td>\n",
       "      <td>No</td>\n",
       "      <td>No phone service</td>\n",
       "      <td>DSL</td>\n",
       "      <td>...</td>\n",
       "      <td>No</td>\n",
       "      <td>No</td>\n",
       "      <td>No</td>\n",
       "      <td>No</td>\n",
       "      <td>No</td>\n",
       "      <td>Month-to-month</td>\n",
       "      <td>Yes</td>\n",
       "      <td>Electronic check</td>\n",
       "      <td>23.45</td>\n",
       "      <td>23.45</td>\n",
       "    </tr>\n",
       "    <tr>\n",
       "      <th>3</th>\n",
       "      <td>Yes</td>\n",
       "      <td>2568-BRGYX</td>\n",
       "      <td>Male</td>\n",
       "      <td>0</td>\n",
       "      <td>No</td>\n",
       "      <td>No</td>\n",
       "      <td>4</td>\n",
       "      <td>Yes</td>\n",
       "      <td>No</td>\n",
       "      <td>Fiber optic</td>\n",
       "      <td>...</td>\n",
       "      <td>No</td>\n",
       "      <td>No</td>\n",
       "      <td>No</td>\n",
       "      <td>No</td>\n",
       "      <td>No</td>\n",
       "      <td>Month-to-month</td>\n",
       "      <td>Yes</td>\n",
       "      <td>Electronic check</td>\n",
       "      <td>70.20</td>\n",
       "      <td>237.95</td>\n",
       "    </tr>\n",
       "    <tr>\n",
       "      <th>4</th>\n",
       "      <td>No</td>\n",
       "      <td>2775-SEFEE</td>\n",
       "      <td>Male</td>\n",
       "      <td>0</td>\n",
       "      <td>No</td>\n",
       "      <td>Yes</td>\n",
       "      <td>0</td>\n",
       "      <td>Yes</td>\n",
       "      <td>Yes</td>\n",
       "      <td>DSL</td>\n",
       "      <td>...</td>\n",
       "      <td>Yes</td>\n",
       "      <td>No</td>\n",
       "      <td>Yes</td>\n",
       "      <td>No</td>\n",
       "      <td>No</td>\n",
       "      <td>Two year</td>\n",
       "      <td>Yes</td>\n",
       "      <td>Bank transfer (automatic)</td>\n",
       "      <td>61.90</td>\n",
       "      <td></td>\n",
       "    </tr>\n",
       "  </tbody>\n",
       "</table>\n",
       "<p>5 rows × 21 columns</p>\n",
       "</div>"
      ],
      "text/plain": [
       "  Churn  customerID  gender  SeniorCitizen Partner Dependents  tenure  \\\n",
       "0    No  4223-BKEOR  Female              0      No        Yes      21   \n",
       "1    No  6035-RIIOM  Female              0      No         No      54   \n",
       "2   Yes  3797-VTIDR    Male              0     Yes         No       1   \n",
       "3   Yes  2568-BRGYX    Male              0      No         No       4   \n",
       "4    No  2775-SEFEE    Male              0      No        Yes       0   \n",
       "\n",
       "  PhoneService     MultipleLines InternetService  ... OnlineBackup  \\\n",
       "0          Yes                No             DSL  ...           No   \n",
       "1          Yes               Yes     Fiber optic  ...          Yes   \n",
       "2           No  No phone service             DSL  ...           No   \n",
       "3          Yes                No     Fiber optic  ...           No   \n",
       "4          Yes               Yes             DSL  ...          Yes   \n",
       "\n",
       "  DeviceProtection TechSupport StreamingTV StreamingMovies        Contract  \\\n",
       "0              Yes          No          No             Yes        One year   \n",
       "1               No          No         Yes             Yes        Two year   \n",
       "2               No          No          No              No  Month-to-month   \n",
       "3               No          No          No              No  Month-to-month   \n",
       "4               No         Yes          No              No        Two year   \n",
       "\n",
       "  PaperlessBilling              PaymentMethod MonthlyCharges  TotalCharges  \n",
       "0               No               Mailed check          64.85        1336.8  \n",
       "1              Yes  Bank transfer (automatic)          97.20       5129.45  \n",
       "2              Yes           Electronic check          23.45         23.45  \n",
       "3              Yes           Electronic check          70.20        237.95  \n",
       "4              Yes  Bank transfer (automatic)          61.90                \n",
       "\n",
       "[5 rows x 21 columns]"
      ]
     },
     "execution_count": 44,
     "metadata": {},
     "output_type": "execute_result"
    }
   ],
   "source": [
    "df.head()"
   ]
  },
  {
   "cell_type": "code",
   "execution_count": 45,
   "metadata": {},
   "outputs": [],
   "source": [
    "#df.columns"
   ]
  },
  {
   "cell_type": "code",
   "execution_count": 46,
   "metadata": {},
   "outputs": [],
   "source": [
    "Z = df['gender']\n",
    "le = preprocessing.LabelEncoder()\n",
    "colonne = np.array(Z)\n",
    "C=le.fit((Z))\n",
    "H=list(le.classes_)\n",
    "V=le.transform(Z)\n",
    "V = V.reshape(-1,1)\n",
    "dataset1 = pd.DataFrame({'gender': V[:, 0]})"
   ]
  },
  {
   "cell_type": "code",
   "execution_count": null,
   "metadata": {},
   "outputs": [],
   "source": []
  },
  {
   "cell_type": "code",
   "execution_count": 47,
   "metadata": {},
   "outputs": [],
   "source": [
    "E = df['Partner']\n",
    "le = preprocessing.LabelEncoder()\n",
    "colonne = np.array(E)\n",
    "F=le.fit((E))\n",
    "G=list(le.classes_)\n",
    "I=le.transform(E)\n",
    "I = I.reshape(-1,1)\n",
    "dataset2 = pd.DataFrame({'Partner': I[:, 0]})"
   ]
  },
  {
   "cell_type": "code",
   "execution_count": null,
   "metadata": {},
   "outputs": [],
   "source": []
  },
  {
   "cell_type": "code",
   "execution_count": null,
   "metadata": {},
   "outputs": [],
   "source": []
  },
  {
   "cell_type": "code",
   "execution_count": 48,
   "metadata": {},
   "outputs": [],
   "source": [
    "B = df['Dependents']\n",
    "le = preprocessing.LabelEncoder()\n",
    "colonne = np.array(B)\n",
    "D=le.fit((B))\n",
    "M=list(le.classes_)\n",
    "N=le.transform(B)\n",
    "N = N.reshape(-1,1)\n",
    "dataset3 = pd.DataFrame({'Dependents': N[:, 0]})"
   ]
  },
  {
   "cell_type": "code",
   "execution_count": null,
   "metadata": {},
   "outputs": [],
   "source": []
  },
  {
   "cell_type": "code",
   "execution_count": null,
   "metadata": {},
   "outputs": [],
   "source": []
  },
  {
   "cell_type": "code",
   "execution_count": 49,
   "metadata": {},
   "outputs": [],
   "source": [
    "L = df['PhoneService']\n",
    "le = preprocessing.LabelEncoder()\n",
    "colonne = np.array(L)\n",
    "O=le.fit((L))\n",
    "P=list(le.classes_)\n",
    "Q=le.transform(L)\n",
    "Q = Q.reshape(-1,1)\n",
    "dataset4 = pd.DataFrame({'PhoneService': Q[:, 0]})"
   ]
  },
  {
   "cell_type": "code",
   "execution_count": null,
   "metadata": {},
   "outputs": [],
   "source": []
  },
  {
   "cell_type": "code",
   "execution_count": null,
   "metadata": {},
   "outputs": [],
   "source": []
  },
  {
   "cell_type": "code",
   "execution_count": 50,
   "metadata": {},
   "outputs": [],
   "source": [
    "R = df['MultipleLines']\n",
    "le = preprocessing.LabelEncoder()\n",
    "colonne = np.array(R)\n",
    "S=le.fit((R))\n",
    "T=list(le.classes_)\n",
    "U=le.transform(R)\n",
    "U = U.reshape(-1,1)\n",
    "dataset5 = pd.DataFrame({'MultipleLines': U[:, 0]})"
   ]
  },
  {
   "cell_type": "code",
   "execution_count": 51,
   "metadata": {},
   "outputs": [],
   "source": [
    "ZZ = df['InternetService']\n",
    "le = preprocessing.LabelEncoder()\n",
    "colonne = np.array(ZZ)\n",
    "CC=le.fit((ZZ))\n",
    "HH=list(le.classes_)\n",
    "VV=le.transform(ZZ)\n",
    "VV = VV.reshape(-1,1)\n",
    "dataset6 = pd.DataFrame({'InternetService': VV[:, 0]})"
   ]
  },
  {
   "cell_type": "code",
   "execution_count": null,
   "metadata": {},
   "outputs": [],
   "source": []
  },
  {
   "cell_type": "code",
   "execution_count": 52,
   "metadata": {},
   "outputs": [],
   "source": [
    "ZZZ = df['OnlineSecurity']\n",
    "le = preprocessing.LabelEncoder()\n",
    "colonne = np.array(ZZZ)\n",
    "CCC=le.fit((ZZZ))\n",
    "HHH=list(le.classes_)\n",
    "VVV=le.transform(ZZZ)\n",
    "VVV = VVV.reshape(-1,1)\n",
    "dataset7 = pd.DataFrame({'OnlineSecurity': VVV[:, 0]})"
   ]
  },
  {
   "cell_type": "code",
   "execution_count": null,
   "metadata": {},
   "outputs": [],
   "source": []
  },
  {
   "cell_type": "code",
   "execution_count": 53,
   "metadata": {},
   "outputs": [],
   "source": [
    "ZZZZ = df['OnlineBackup']\n",
    "le = preprocessing.LabelEncoder()\n",
    "colonne = np.array(ZZZZ)\n",
    "CCCC=le.fit((ZZZZ))\n",
    "HHHH=list(le.classes_)\n",
    "VVVV=le.transform(ZZZZ)\n",
    "VVVV = VVVV.reshape(-1,1)\n",
    "dataset8 = pd.DataFrame({'OnlineBackup': VVVV[:, 0]})"
   ]
  },
  {
   "cell_type": "code",
   "execution_count": null,
   "metadata": {},
   "outputs": [],
   "source": []
  },
  {
   "cell_type": "code",
   "execution_count": 54,
   "metadata": {},
   "outputs": [],
   "source": [
    "ZZZZZ = df['DeviceProtection']\n",
    "le = preprocessing.LabelEncoder()\n",
    "colonne = np.array(ZZZZZ)\n",
    "CCCCC=le.fit((ZZZZZ))\n",
    "HHHHH=list(le.classes_)\n",
    "VVVVV=le.transform(ZZZZZ)\n",
    "VVVVV = VVVVV.reshape(-1,1)\n",
    "dataset9 = pd.DataFrame({'DeviceProtection': VVVVV[:, 0]})"
   ]
  },
  {
   "cell_type": "code",
   "execution_count": null,
   "metadata": {},
   "outputs": [],
   "source": []
  },
  {
   "cell_type": "code",
   "execution_count": 55,
   "metadata": {},
   "outputs": [],
   "source": [
    "ZZZZZZ = df['TechSupport']\n",
    "le = preprocessing.LabelEncoder()\n",
    "colonne = np.array(ZZZZZZ)\n",
    "CCCCCC=le.fit((ZZZZZZ))\n",
    "HHHHHH=list(le.classes_)\n",
    "VVVVVV=le.transform(ZZZZZZ)\n",
    "VVVVVV = VVVVVV.reshape(-1,1)\n",
    "dataset10 = pd.DataFrame({'TechSupport': VVVVVV[:, 0]})"
   ]
  },
  {
   "cell_type": "code",
   "execution_count": null,
   "metadata": {},
   "outputs": [],
   "source": []
  },
  {
   "cell_type": "code",
   "execution_count": 56,
   "metadata": {},
   "outputs": [],
   "source": [
    "ZZZZZZZ = df['StreamingTV']\n",
    "le = preprocessing.LabelEncoder()\n",
    "colonne = np.array(ZZZZZZZ)\n",
    "CCCCCCC=le.fit((ZZZZZZZ))\n",
    "HHHHHHH=list(le.classes_)\n",
    "VVVVVVV=le.transform(ZZZZZZZ)\n",
    "VVVVVVV = VVVVVVV.reshape(-1,1)\n",
    "dataset11 = pd.DataFrame({'StreamingTV': VVVVVVV[:, 0]})"
   ]
  },
  {
   "cell_type": "code",
   "execution_count": null,
   "metadata": {},
   "outputs": [],
   "source": []
  },
  {
   "cell_type": "code",
   "execution_count": 57,
   "metadata": {},
   "outputs": [],
   "source": [
    "ZZZZZZZZ = df['PaperlessBilling']\n",
    "le = preprocessing.LabelEncoder()\n",
    "colonne = np.array(ZZZZZZZZ)\n",
    "CCCCCCCC=le.fit((ZZZZZZZZ))\n",
    "HHHHHHHH=list(le.classes_)\n",
    "VVVVVVVV=le.transform(ZZZZZZZZ)\n",
    "VVVVVVVV = VVVVVVVV.reshape(-1,1)\n",
    "dataset12 = pd.DataFrame({'PaperlessBilling': VVVVVVVV[:, 0]})\n",
    "\n",
    "#streamingMovies mi fa scendere l'accuracy\n",
    "#ma pure contract me la fa scendere"
   ]
  },
  {
   "cell_type": "code",
   "execution_count": null,
   "metadata": {},
   "outputs": [],
   "source": []
  },
  {
   "cell_type": "code",
   "execution_count": null,
   "metadata": {},
   "outputs": [],
   "source": [
    "\n",
    "\n"
   ]
  },
  {
   "cell_type": "code",
   "execution_count": 58,
   "metadata": {},
   "outputs": [],
   "source": [
    "\n",
    "ZZZZZZZZZ = df['TotalCharges']\n",
    "le = preprocessing.LabelEncoder()\n",
    "colonne = np.array(ZZZZZZZZZ)\n",
    "CCCCCCCCC=le.fit((ZZZZZZZZZ))\n",
    "HHHHHHHHH=list(le.classes_)\n",
    "VVVVVVVVV=le.transform(ZZZZZZZZZ)\n",
    "VVVVVVVVV = VVVVVVVVV.reshape(-1,1)\n",
    "dataset13 = pd.DataFrame({'TotalCharges': VVVVVVVVV[:, 0]})\n",
    "\n",
    "#streamingMovies mi fa scendere l'accuracy\n",
    "#ma pure contract me la fa scendere e pure PaymentMethod e pure PerpellesBilling"
   ]
  },
  {
   "cell_type": "code",
   "execution_count": 59,
   "metadata": {},
   "outputs": [],
   "source": [
    "X = pd.concat([dataset1, dataset2, dataset3, dataset4, dataset5, dataset6, dataset7, dataset8, dataset9, dataset10, dataset11, p, d], axis=1)"
   ]
  },
  {
   "cell_type": "code",
   "execution_count": 60,
   "metadata": {},
   "outputs": [
    {
     "name": "stdout",
     "output_type": "stream",
     "text": [
      "    gender  Partner  Dependents  PhoneService  MultipleLines  InternetService  \\\n",
      "0        0        0           1             1              0                0   \n",
      "1        0        0           0             1              2                1   \n",
      "2        1        1           0             0              1                0   \n",
      "3        1        0           0             1              0                1   \n",
      "4        1        0           1             1              2                0   \n",
      "5        1        0           0             1              0                1   \n",
      "6        1        1           1             1              0                2   \n",
      "7        1        1           1             1              0                2   \n",
      "8        1        0           0             0              1                0   \n",
      "9        1        0           1             1              0                2   \n",
      "10       1        1           0             1              0                1   \n",
      "11       0        0           0             1              2                0   \n",
      "12       1        0           0             1              0                2   \n",
      "13       0        1           0             1              2                1   \n",
      "14       0        0           0             0              1                0   \n",
      "15       0        0           0             0              1                0   \n",
      "16       0        1           1             1              2                1   \n",
      "17       0        1           0             1              0                0   \n",
      "18       0        1           0             1              2                2   \n",
      "19       1        1           0             0              1                0   \n",
      "\n",
      "    OnlineSecurity  OnlineBackup  DeviceProtection  TechSupport  StreamingTV  \\\n",
      "0                2             0                 2            0            0   \n",
      "1                0             2                 0            0            2   \n",
      "2                0             0                 0            0            0   \n",
      "3                0             0                 0            0            0   \n",
      "4                2             2                 0            2            0   \n",
      "5                0             0                 0            0            0   \n",
      "6                1             1                 1            1            1   \n",
      "7                1             1                 1            1            1   \n",
      "8                0             0                 2            0            2   \n",
      "9                1             1                 1            1            1   \n",
      "10               0             0                 0            0            0   \n",
      "11               2             0                 0            2            0   \n",
      "12               1             1                 1            1            1   \n",
      "13               2             0                 2            0            2   \n",
      "14               2             0                 2            2            0   \n",
      "15               2             2                 2            2            0   \n",
      "16               2             2                 2            2            2   \n",
      "17               0             2                 2            2            2   \n",
      "18               1             1                 1            1            1   \n",
      "19               2             0                 2            0            2   \n",
      "\n",
      "    SeniorCitizen  tenure  \n",
      "0               0      21  \n",
      "1               0      54  \n",
      "2               0       1  \n",
      "3               0       4  \n",
      "4               0       0  \n",
      "5               0       7  \n",
      "6               0      32  \n",
      "7               0      72  \n",
      "8               0      19  \n",
      "9               0      10  \n",
      "10              1      21  \n",
      "11              1      45  \n",
      "12              1      32  \n",
      "13              0      40  \n",
      "14              0      47  \n",
      "15              0      36  \n",
      "16              0      69  \n",
      "17              0      71  \n",
      "18              0      71  \n",
      "19              0      35  \n"
     ]
    }
   ],
   "source": [
    "print(X.head(20))"
   ]
  },
  {
   "cell_type": "code",
   "execution_count": null,
   "metadata": {},
   "outputs": [],
   "source": []
  },
  {
   "cell_type": "code",
   "execution_count": null,
   "metadata": {},
   "outputs": [],
   "source": []
  },
  {
   "cell_type": "code",
   "execution_count": 61,
   "metadata": {},
   "outputs": [],
   "source": [
    "r = df['Churn']\n",
    "le = preprocessing.LabelEncoder()\n",
    "colonne = np.array(r)\n",
    "s=le.fit((r))\n",
    "t=list(le.classes_)\n",
    "u=le.transform(r)\n",
    "u = u.reshape(-1,1)\n",
    "y = pd.DataFrame({'Churn': u[:, 0]})"
   ]
  },
  {
   "cell_type": "code",
   "execution_count": 62,
   "metadata": {},
   "outputs": [
    {
     "name": "stdout",
     "output_type": "stream",
     "text": [
      "    Churn\n",
      "0       0\n",
      "1       0\n",
      "2       1\n",
      "3       1\n",
      "4       0\n",
      "5       0\n",
      "6       0\n",
      "7       0\n",
      "8       1\n",
      "9       0\n",
      "10      1\n",
      "11      0\n",
      "12      0\n",
      "13      0\n",
      "14      0\n",
      "15      0\n",
      "16      0\n",
      "17      0\n",
      "18      0\n",
      "19      0\n"
     ]
    }
   ],
   "source": [
    "print(y.head(20))"
   ]
  },
  {
   "cell_type": "code",
   "execution_count": null,
   "metadata": {},
   "outputs": [],
   "source": []
  },
  {
   "cell_type": "code",
   "execution_count": 63,
   "metadata": {},
   "outputs": [
    {
     "data": {
      "text/plain": [
       "DecisionTreeClassifier(ccp_alpha=0.0, class_weight=None, criterion='gini',\n",
       "                       max_depth=None, max_features=None, max_leaf_nodes=None,\n",
       "                       min_impurity_decrease=0.0, min_impurity_split=None,\n",
       "                       min_samples_leaf=1, min_samples_split=2,\n",
       "                       min_weight_fraction_leaf=0.0, presort='deprecated',\n",
       "                       random_state=None, splitter='best')"
      ]
     },
     "execution_count": 63,
     "metadata": {},
     "output_type": "execute_result"
    }
   ],
   "source": [
    "X_train, X_test, y_train, y_test = train_test_split(X, y)\n",
    "model = DecisionTreeClassifier()\n",
    "model.fit(X_train,y_train)"
   ]
  },
  {
   "cell_type": "code",
   "execution_count": null,
   "metadata": {},
   "outputs": [],
   "source": []
  },
  {
   "cell_type": "code",
   "execution_count": 64,
   "metadata": {},
   "outputs": [],
   "source": [
    "p_train=model.predict(X_train)\n",
    "p_test=model.predict(X_test)\n",
    "acc_train=accuracy_score(y_train, p_train)\n",
    "acc_test=accuracy_score(y_test, p_test)"
   ]
  },
  {
   "cell_type": "code",
   "execution_count": null,
   "metadata": {},
   "outputs": [],
   "source": []
  },
  {
   "cell_type": "code",
   "execution_count": 65,
   "metadata": {},
   "outputs": [
    {
     "name": "stdout",
     "output_type": "stream",
     "text": [
      "acc_train 0.9607100591715977\n",
      "acc_test 0.7203690560681334\n"
     ]
    }
   ],
   "source": [
    "print(\"acc_train\", acc_train)\n",
    "print(\"acc_test\", acc_test)"
   ]
  },
  {
   "cell_type": "code",
   "execution_count": null,
   "metadata": {},
   "outputs": [],
   "source": []
  },
  {
   "cell_type": "code",
   "execution_count": null,
   "metadata": {},
   "outputs": [],
   "source": []
  },
  {
   "cell_type": "code",
   "execution_count": null,
   "metadata": {},
   "outputs": [],
   "source": []
  },
  {
   "cell_type": "code",
   "execution_count": null,
   "metadata": {},
   "outputs": [],
   "source": []
  }
 ],
 "metadata": {
  "kernelspec": {
   "display_name": "Python 3",
   "language": "python",
   "name": "python3"
  },
  "language_info": {
   "codemirror_mode": {
    "name": "ipython",
    "version": 3
   },
   "file_extension": ".py",
   "mimetype": "text/x-python",
   "name": "python",
   "nbconvert_exporter": "python",
   "pygments_lexer": "ipython3",
   "version": "3.7.6"
  }
 },
 "nbformat": 4,
 "nbformat_minor": 4
}
